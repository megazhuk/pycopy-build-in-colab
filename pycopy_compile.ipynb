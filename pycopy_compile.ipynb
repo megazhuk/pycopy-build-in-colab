{
  "nbformat": 4,
  "nbformat_minor": 0,
  "metadata": {
    "colab": {
      "name": "pycopy_compile.ipynb",
      "private_outputs": true,
      "provenance": [],
      "collapsed_sections": [
        "cOCSaJmp_Yy2"
      ],
      "toc_visible": true,
      "authorship_tag": "ABX9TyMZgYx71Q6PvZyVbcFizlOg",
      "include_colab_link": true
    },
    "kernelspec": {
      "name": "python3",
      "display_name": "Python 3"
    }
  },
  "cells": [
    {
      "cell_type": "markdown",
      "metadata": {
        "id": "view-in-github",
        "colab_type": "text"
      },
      "source": [
        "<a href=\"https://colab.research.google.com/github/megazhuk/pycopy-build-in-colab/blob/main/pycopy_compile.ipynb\" target=\"_parent\"><img src=\"https://colab.research.google.com/assets/colab-badge.svg\" alt=\"Open In Colab\"/></a>"
      ]
    },
    {
      "cell_type": "code",
      "metadata": {
        "id": "Q90S7IQTpnOv",
        "cellView": "form"
      },
      "source": [
        "#@title Init Workspace\r\n",
        "git_pycopy = \"/content/git_pycopy\"\r\n",
        "git_espidf = \"/content/git_espidf\"\r\n",
        "dir_esp32 = git_pycopy + \"/ports/esp32\"\r\n",
        "dir_mpy_cross = git_pycopy + '/mpy-cross'"
      ],
      "execution_count": null,
      "outputs": []
    },
    {
      "cell_type": "markdown",
      "metadata": {
        "id": "cOCSaJmp_Yy2"
      },
      "source": [
        "# Downloads (git, modules)"
      ]
    },
    {
      "cell_type": "code",
      "metadata": {
        "id": "5MRl62EOmV57",
        "cellView": "form"
      },
      "source": [
        "#@title GIT clone 'pfalcon/pycopy.git'\n",
        "!git clone https://github.com/pfalcon/pycopy.git $git_pycopy"
      ],
      "execution_count": null,
      "outputs": []
    },
    {
      "cell_type": "code",
      "metadata": {
        "id": "nuoR7LDRoOF5",
        "cellView": "form"
      },
      "source": [
        "#@title GIT clone 'espressif/esp-idf.git'\r\n",
        "! git clone https://github.com/espressif/esp-idf.git $git_espidf\r\n"
      ],
      "execution_count": null,
      "outputs": []
    },
    {
      "cell_type": "code",
      "metadata": {
        "id": "hG0KmlRcrHwB",
        "cellView": "form"
      },
      "source": [
        "#@title Choose esp-idf Version { run: \"auto\" }\n",
        "ESP_IDF_version = \"V4\" #@param [\"V4\", \"V3\"]\n",
        "var_to_find = 'ESPIDF_SUPHASH_' + ESP_IDF_version\n",
        "separator = ' := '\n",
        "tmp = 'not empty'\n",
        "with open(dir_esp32+'/Makefile', 'r') as f:\n",
        "  while(tmp != ''):\n",
        "    tmp = f.readline()\n",
        "    if len(tmp) == 0 : break\n",
        "    if var_to_find in tmp:\n",
        "      esp_sha = tmp.split(sep=separator, maxsplit=1)[-1][:-1]\n",
        "      if len(esp_sha) == 40:\n",
        "        print(f'Found: {esp_sha}')\n",
        "        break\n",
        "  if tmp == '':\n",
        "    print (f'Hash not found by variable: {var_to_find}')"
      ],
      "execution_count": null,
      "outputs": []
    },
    {
      "cell_type": "code",
      "metadata": {
        "id": "KFhGH_9XstpT",
        "cellView": "form"
      },
      "source": [
        "#@title Apply esp-idf Version and get Submodules to it\r\n",
        "! cd $git_espidf && git reset --hard $esp_sha\r\n",
        "! cd $git_espidf && git submodule update --init --recursive"
      ],
      "execution_count": null,
      "outputs": []
    },
    {
      "cell_type": "code",
      "metadata": {
        "id": "JVx1dQVDnmjw",
        "cellView": "form"
      },
      "source": [
        "#@title Install esp-idf (compiler, env, packages)\r\n",
        "! cd $git_espidf && ./install.sh"
      ],
      "execution_count": null,
      "outputs": []
    },
    {
      "cell_type": "code",
      "metadata": {
        "id": "zLNXTcHp2y4j",
        "cellView": "form"
      },
      "source": [
        "#@title Patch ESP-IDF's 'mbedtls' from 'pfalcon/mbedtls/'\r\n",
        "dir_mbed = git_espidf + '/components/mbedtls/'\r\n",
        "! cd $dir_mbed && rm -rf mbedtls && git clone -b mbedtls-2.16.5-idf-pycopy https://github.com/pfalcon/mbedtls/"
      ],
      "execution_count": null,
      "outputs": []
    },
    {
      "cell_type": "markdown",
      "metadata": {
        "id": "zyeVbEJjOS65"
      },
      "source": [
        "# mpy-cross"
      ]
    },
    {
      "cell_type": "code",
      "metadata": {
        "id": "AaBkTcJsDOy9",
        "cellView": "form"
      },
      "source": [
        "#@title Compile 'mpy-cross'\r\n",
        "! cd $dir_mpy_cross && make"
      ],
      "execution_count": null,
      "outputs": []
    },
    {
      "cell_type": "code",
      "metadata": {
        "id": "lwNuy_ZSIxjM",
        "cellView": "form"
      },
      "source": [
        "#@title download 'mpy-cross', if you need it local\r\n",
        "import ipywidgets as widgets\r\n",
        "from IPython.display import display\r\n",
        "from google.colab import files\r\n",
        "\r\n",
        "button = widgets.Button(\r\n",
        "    description=\"Get mpy-cross\", \r\n",
        "    tooltip='Click to download',\r\n",
        "    icon='file-download', # (FontAwesome names without the `fa-` prefix)\r\n",
        "    button_style='info', # 'success', 'info', 'warning', 'danger' or ''\r\n",
        "    disabled=False,\r\n",
        "    )\r\n",
        "\r\n",
        "def on_button_clicked(b):\r\n",
        "  # Display the message within the output widget.\r\n",
        "  files.download(dir_mpy_cross+'/pycopy-cross')\r\n",
        "\r\n",
        "button.on_click(on_button_clicked)\r\n",
        "display(button)"
      ],
      "execution_count": null,
      "outputs": []
    },
    {
      "cell_type": "markdown",
      "metadata": {
        "id": "C5yQjJtKPCO5"
      },
      "source": [
        "# Build Pycopy Firmware"
      ]
    },
    {
      "cell_type": "code",
      "metadata": {
        "id": "9KKMZGMAOQ0d"
      },
      "source": [
        "#@title Configure ESP32 fw. NOT READY, YOU CAN SKIP FURTHER { run: \"auto\" }\n",
        "board = \"GENERIC\" #@param [\"GENERIC\"] {allow-input: true}\n",
        "flash_size = \"4MB\" #@param [\"2MB\", \"4MB\"] {allow-input: true}\n",
        "flash_mode = \"dio\" #@param [\"dio\", \"qio\"]\n",
        "#@markdown >(*flash_mode for ESP-WROOM-32 should be 'dio'*)\n",
        "serial_port = \"/dev/ttyUSB0\" #@param {type:\"string\"}\n",
        "BLE_enalbe = True #@param {type:\"boolean\"}\n",
        "nimBLE_enable = True #@param {type:\"boolean\"}\n",
        "nimBLE_only_bind = True #@param {type:\"boolean\"}\n",
        "#@markdown >(*`only_bind` - to use own ESP32 lib instead full NimBLE*)\n",
        "\n",
        "#@markdown TODO: SPIRAM enabler<br>\n",
        "#@markdown TODO: understand BLE/BT/NIMBLE options\n",
        "\n",
        "if not BLE_enalbe:\n",
        "  nimBLE_enable = nimBLE_only_bind = False\n",
        "content = (\n",
        "# f'ESPIDF ?= {git_espidf}\\n'\n",
        "f'BOARD ?= {board}\\n'\n",
        "f'#PORT ?= {serial_port}\\n'\n",
        "f'#FLASH_MODE ?= {flash_mode}\\n'\n",
        "f'#FLASH_SIZE ?= {flash_size}\\n'\n",
        "f'MICROPY_PY_BLUETOOTH ?= {1 if BLE_enalbe else 0} \\n'\n",
        "f'MICROPY_BLUETOOTH_NIMBLE ?= {1 if nimBLE_enable else 0}\\n'\n",
        "f'MICROPY_BLUETOOTH_NIMBLE_BINDINGS_ONLY = {1 if nimBLE_only_bind else 0}\\n'\n",
        "f'include Makefile'\n",
        ")\n",
        "\n",
        "# makefile = 'makefile'\n",
        "# f = open(dir_esp32+'/'+makefile,\"w\")\n",
        "# f.write (content)\n",
        "# f.close()\n",
        "print(content)"
      ],
      "execution_count": null,
      "outputs": []
    },
    {
      "cell_type": "code",
      "metadata": {
        "id": "8Qj6p4WPDZ1U"
      },
      "source": [
        "#@title Compile Pycopy port for ESP32\r\n",
        "! cd $dir_esp32 && source $git_espidf/export.sh && cd $dir_esp32 && make submodules && make\r\n"
      ],
      "execution_count": null,
      "outputs": []
    }
  ]
}